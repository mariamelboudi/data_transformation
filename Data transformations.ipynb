{
 "cells": [
  {
   "cell_type": "markdown",
   "id": "ec2a0484",
   "metadata": {},
   "source": [
    "This notebook focuses on preparing categorical data for a model and uses different encoding techniques. It is part of the 'Feature engineering 1: Data transformations' syllabus on Codecademy."
   ]
  },
  {
   "cell_type": "code",
   "execution_count": 10,
   "id": "1fc291d5",
   "metadata": {},
   "outputs": [],
   "source": [
    "import pandas as pd\n",
    "import numpy as np\n",
    "from sklearn.preprocessing import StandardScaler"
   ]
  },
  {
   "cell_type": "code",
   "execution_count": 11,
   "id": "747cf438",
   "metadata": {},
   "outputs": [
    {
     "data": {
      "text/html": [
       "<div>\n",
       "<style scoped>\n",
       "    .dataframe tbody tr th:only-of-type {\n",
       "        vertical-align: middle;\n",
       "    }\n",
       "\n",
       "    .dataframe tbody tr th {\n",
       "        vertical-align: top;\n",
       "    }\n",
       "\n",
       "    .dataframe thead th {\n",
       "        text-align: right;\n",
       "    }\n",
       "</style>\n",
       "<table border=\"1\" class=\"dataframe\">\n",
       "  <thead>\n",
       "    <tr style=\"text-align: right;\">\n",
       "      <th></th>\n",
       "      <th>Clothing ID</th>\n",
       "      <th>Age</th>\n",
       "      <th>Title</th>\n",
       "      <th>Review Text</th>\n",
       "      <th>Rating</th>\n",
       "      <th>Recommended</th>\n",
       "      <th>Positive Feedback Count</th>\n",
       "      <th>Division Name</th>\n",
       "      <th>Department Name</th>\n",
       "      <th>Class Name</th>\n",
       "    </tr>\n",
       "  </thead>\n",
       "  <tbody>\n",
       "    <tr>\n",
       "      <th>0</th>\n",
       "      <td>767</td>\n",
       "      <td>33</td>\n",
       "      <td>NaN</td>\n",
       "      <td>Absolutely wonderful - silky and sexy and comf...</td>\n",
       "      <td>Liked it</td>\n",
       "      <td>True</td>\n",
       "      <td>0</td>\n",
       "      <td>Initmates</td>\n",
       "      <td>Intimate</td>\n",
       "      <td>Intimates</td>\n",
       "    </tr>\n",
       "    <tr>\n",
       "      <th>1</th>\n",
       "      <td>1080</td>\n",
       "      <td>34</td>\n",
       "      <td>NaN</td>\n",
       "      <td>Love this dress!  it's sooo pretty.  i happene...</td>\n",
       "      <td>Loved it</td>\n",
       "      <td>True</td>\n",
       "      <td>4</td>\n",
       "      <td>General</td>\n",
       "      <td>Dresses</td>\n",
       "      <td>Dresses</td>\n",
       "    </tr>\n",
       "    <tr>\n",
       "      <th>2</th>\n",
       "      <td>1077</td>\n",
       "      <td>60</td>\n",
       "      <td>Some major design flaws</td>\n",
       "      <td>I had such high hopes for this dress and reall...</td>\n",
       "      <td>Was okay</td>\n",
       "      <td>False</td>\n",
       "      <td>0</td>\n",
       "      <td>General</td>\n",
       "      <td>Dresses</td>\n",
       "      <td>Dresses</td>\n",
       "    </tr>\n",
       "    <tr>\n",
       "      <th>3</th>\n",
       "      <td>1049</td>\n",
       "      <td>50</td>\n",
       "      <td>My favorite buy!</td>\n",
       "      <td>I love, love, love this jumpsuit. it's fun, fl...</td>\n",
       "      <td>Loved it</td>\n",
       "      <td>True</td>\n",
       "      <td>0</td>\n",
       "      <td>General Petite</td>\n",
       "      <td>Bottoms</td>\n",
       "      <td>Pants</td>\n",
       "    </tr>\n",
       "    <tr>\n",
       "      <th>4</th>\n",
       "      <td>847</td>\n",
       "      <td>47</td>\n",
       "      <td>Flattering shirt</td>\n",
       "      <td>This shirt is very flattering to all due to th...</td>\n",
       "      <td>Loved it</td>\n",
       "      <td>True</td>\n",
       "      <td>6</td>\n",
       "      <td>General</td>\n",
       "      <td>Tops</td>\n",
       "      <td>Blouses</td>\n",
       "    </tr>\n",
       "  </tbody>\n",
       "</table>\n",
       "</div>"
      ],
      "text/plain": [
       "   Clothing ID  Age                    Title  \\\n",
       "0          767   33                      NaN   \n",
       "1         1080   34                      NaN   \n",
       "2         1077   60  Some major design flaws   \n",
       "3         1049   50         My favorite buy!   \n",
       "4          847   47         Flattering shirt   \n",
       "\n",
       "                                         Review Text    Rating  Recommended  \\\n",
       "0  Absolutely wonderful - silky and sexy and comf...  Liked it         True   \n",
       "1  Love this dress!  it's sooo pretty.  i happene...  Loved it         True   \n",
       "2  I had such high hopes for this dress and reall...  Was okay        False   \n",
       "3  I love, love, love this jumpsuit. it's fun, fl...  Loved it         True   \n",
       "4  This shirt is very flattering to all due to th...  Loved it         True   \n",
       "\n",
       "   Positive Feedback Count   Division Name Department Name Class Name  \n",
       "0                        0       Initmates        Intimate  Intimates  \n",
       "1                        4         General         Dresses    Dresses  \n",
       "2                        0         General         Dresses    Dresses  \n",
       "3                        0  General Petite         Bottoms      Pants  \n",
       "4                        6         General            Tops    Blouses  "
      ]
     },
     "execution_count": 11,
     "metadata": {},
     "output_type": "execute_result"
    }
   ],
   "source": [
    "reviews = pd.read_csv('E_commerce_reviews', index_col=0)\n",
    "reviews.head()"
   ]
  },
  {
   "cell_type": "code",
   "execution_count": 12,
   "id": "7678e40f",
   "metadata": {},
   "outputs": [
    {
     "data": {
      "text/plain": [
       "Index(['Clothing ID', 'Age', 'Title', 'Review Text', 'Rating', 'Recommended',\n",
       "       'Positive Feedback Count', 'Division Name', 'Department Name',\n",
       "       'Class Name'],\n",
       "      dtype='object')"
      ]
     },
     "execution_count": 12,
     "metadata": {},
     "output_type": "execute_result"
    }
   ],
   "source": [
    "#print column names\n",
    "reviews.columns"
   ]
  },
  {
   "cell_type": "code",
   "execution_count": 13,
   "id": "16562fb5",
   "metadata": {},
   "outputs": [
    {
     "name": "stdout",
     "output_type": "stream",
     "text": [
      "<class 'pandas.core.frame.DataFrame'>\n",
      "Int64Index: 23486 entries, 0 to 23485\n",
      "Data columns (total 10 columns):\n",
      " #   Column                   Non-Null Count  Dtype \n",
      "---  ------                   --------------  ----- \n",
      " 0   Clothing ID              23486 non-null  int64 \n",
      " 1   Age                      23486 non-null  int64 \n",
      " 2   Title                    19676 non-null  object\n",
      " 3   Review Text              22641 non-null  object\n",
      " 4   Rating                   23486 non-null  object\n",
      " 5   Recommended              23486 non-null  bool  \n",
      " 6   Positive Feedback Count  23486 non-null  int64 \n",
      " 7   Division Name            23472 non-null  object\n",
      " 8   Department Name          23472 non-null  object\n",
      " 9   Class Name               23472 non-null  object\n",
      "dtypes: bool(1), int64(3), object(6)\n",
      "memory usage: 1.8+ MB\n"
     ]
    }
   ],
   "source": [
    "#print .info\n",
    "reviews.info()"
   ]
  },
  {
   "cell_type": "code",
   "execution_count": 14,
   "id": "15ca3129",
   "metadata": {},
   "outputs": [
    {
     "name": "stdout",
     "output_type": "stream",
     "text": [
      "True     19314\n",
      "False     4172\n",
      "Name: Recommended, dtype: int64\n"
     ]
    }
   ],
   "source": [
    "#look at the counts of recommended\n",
    "print(reviews['Recommended'].value_counts())"
   ]
  },
  {
   "cell_type": "code",
   "execution_count": 15,
   "id": "4884f60f",
   "metadata": {},
   "outputs": [
    {
     "name": "stdout",
     "output_type": "stream",
     "text": [
      "0    1\n",
      "1    1\n",
      "2    0\n",
      "3    1\n",
      "4    1\n",
      "Name: Recommended, dtype: int64\n",
      "1    19314\n",
      "0     4172\n",
      "Name: Recommended, dtype: int64\n"
     ]
    }
   ],
   "source": [
    "#create binary dictionary\n",
    "binary_dict = {False: 0, True:1}\n",
    " \n",
    "#transform column\n",
    "reviews['Recommended'] = reviews['Recommended'].map(binary_dict)\n",
    " \n",
    "#print your transformed column\n",
    "print(reviews['Recommended'].head())\n",
    "print(reviews['Recommended'].value_counts())"
   ]
  },
  {
   "cell_type": "code",
   "execution_count": 16,
   "id": "b463d79a",
   "metadata": {},
   "outputs": [
    {
     "name": "stdout",
     "output_type": "stream",
     "text": [
      "Loved it     13131\n",
      "Liked it      5077\n",
      "Was okay      2871\n",
      "Not great     1565\n",
      "Hated it       842\n",
      "Name: Rating, dtype: int64\n",
      "5    13131\n",
      "4     5077\n",
      "3     2871\n",
      "2     1565\n",
      "1      842\n",
      "Name: Rating, dtype: int64\n"
     ]
    }
   ],
   "source": [
    "#look at the counts of rating\n",
    "print(reviews['Rating'].value_counts())\n",
    " \n",
    "#create dictionary\n",
    "rating_dict = {'Loved it':5, 'Liked it': 4, 'Was okay':3, 'Not great':2, 'Hated it':1}\n",
    " \n",
    "#transform rating column\n",
    "reviews['Rating'] = reviews['Rating'].map(rating_dict)\n",
    "\n",
    "#print your transformed column values\n",
    "print(reviews['Rating'].value_counts())"
   ]
  },
  {
   "cell_type": "code",
   "execution_count": 17,
   "id": "7ccd18ff",
   "metadata": {},
   "outputs": [
    {
     "name": "stdout",
     "output_type": "stream",
     "text": [
      "Tops        10468\n",
      "Dresses      6319\n",
      "Bottoms      3799\n",
      "Intimate     1735\n",
      "Jackets      1032\n",
      "Trend         119\n",
      "Name: Department Name, dtype: int64\n",
      "Index(['Clothing ID', 'Age', 'Title', 'Review Text', 'Rating', 'Recommended',\n",
      "       'Positive Feedback Count', 'Division Name', 'Department Name',\n",
      "       'Class Name', 'Bottoms', 'Dresses', 'Intimate', 'Jackets', 'Tops',\n",
      "       'Trend'],\n",
      "      dtype='object')\n"
     ]
    }
   ],
   "source": [
    "#get the number of categories in a feature\n",
    "print(reviews['Department Name'].value_counts())\n",
    " \n",
    "#perform get_dummies\n",
    "ohe = pd.get_dummies(reviews['Department Name'])\n",
    " \n",
    "#join the new columns back onto the original\n",
    "reviews = reviews.join(ohe)\n",
    "\n",
    "#print column names\n",
    "print(reviews.columns)"
   ]
  },
  {
   "cell_type": "code",
   "execution_count": 18,
   "id": "08b8fb17",
   "metadata": {},
   "outputs": [
    {
     "name": "stdout",
     "output_type": "stream",
     "text": [
      "[[-0.83054886  0.4647678  -0.17660399 ... -0.21438431 -0.89672592\n",
      "  -0.07136282]\n",
      " [-0.74911087  0.4647678   0.72429116 ... -0.21438431 -0.89672592\n",
      "  -0.07136282]\n",
      " [ 1.36827674 -2.15161203 -1.07749914 ... -0.21438431 -0.89672592\n",
      "  -0.07136282]\n",
      " ...\n",
      " [-0.99342483 -2.15161203 -1.07749914 ... -0.21438431 -0.89672592\n",
      "  -0.07136282]\n",
      " [-1.23773878  0.4647678  -1.07749914 ... -0.21438431 -0.89672592\n",
      "  -0.07136282]\n",
      " [ 0.71677286  0.4647678   0.72429116 ... -0.21438431 -0.89672592\n",
      "  -0.07136282]]\n"
     ]
    }
   ],
   "source": [
    "#get numerical columns\n",
    "reviews = reviews[['Clothing ID', 'Age', 'Recommended', 'Rating', 'Bottoms', 'Dresses', 'Intimate', 'Jackets', 'Tops', 'Trend']].copy()\n",
    "\n",
    "#reset index\n",
    "reviews = reviews.set_index('Clothing ID')\n",
    "\n",
    "#instantiate standard scaler\n",
    "scaler = StandardScaler()\n",
    " \n",
    "#fit transform data\n",
    "reviews = scaler.fit_transform(reviews)\n",
    "\n",
    "print(reviews)"
   ]
  },
  {
   "cell_type": "code",
   "execution_count": null,
   "id": "85c1ff3c",
   "metadata": {},
   "outputs": [],
   "source": []
  }
 ],
 "metadata": {
  "kernelspec": {
   "display_name": "Python 3 (ipykernel)",
   "language": "python",
   "name": "python3"
  },
  "language_info": {
   "codemirror_mode": {
    "name": "ipython",
    "version": 3
   },
   "file_extension": ".py",
   "mimetype": "text/x-python",
   "name": "python",
   "nbconvert_exporter": "python",
   "pygments_lexer": "ipython3",
   "version": "3.9.12"
  }
 },
 "nbformat": 4,
 "nbformat_minor": 5
}
